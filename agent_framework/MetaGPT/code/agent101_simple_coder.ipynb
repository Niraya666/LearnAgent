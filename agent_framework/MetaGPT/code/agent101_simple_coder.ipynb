{
 "cells": [
  {
   "cell_type": "markdown",
   "id": "a218f60e-e255-45ff-8510-4ecde3580fe1",
   "metadata": {},
   "source": [
    "## 编写SimpleWriteCode动作"
   ]
  },
  {
   "cell_type": "code",
   "execution_count": 3,
   "id": "0abee9cd-338c-4d89-8510-ca872d6db6c2",
   "metadata": {},
   "outputs": [],
   "source": [
    "import re\n",
    "import asyncio\n",
    "from metagpt.actions import Action\n",
    "\n",
    "class SimpleWriteCode(Action):\n",
    "\n",
    "    PROMPT_TEMPLATE = \"\"\"\n",
    "    Write a python function that can {instruction} and provide two runnnable test cases.\n",
    "    Return ```python your_code_here ``` with NO other texts,\n",
    "    your code:\n",
    "    \"\"\"\n",
    "\n",
    "    def __init__(self, name=\"SimpleWriteCode\", context=None, llm=None):\n",
    "        super().__init__(name, context, llm)\n",
    "\n",
    "    async def run(self, instruction: str):\n",
    "\n",
    "        prompt = self.PROMPT_TEMPLATE.format(instruction=instruction)\n",
    "\n",
    "        rsp = await self._aask(prompt)\n",
    "\n",
    "        code_text = SimpleWriteCode.parse_code(rsp)\n",
    "\n",
    "        return code_text\n",
    "\n",
    "    @staticmethod\n",
    "    def parse_code(rsp):\n",
    "        pattern = r'```python(.*)```'\n",
    "        match = re.search(pattern, rsp, re.DOTALL)\n",
    "        code_text = match.group(1) if match else rsp\n",
    "        return code_text"
   ]
  },
  {
   "cell_type": "markdown",
   "id": "cf28ff1e-5166-49cc-b179-3dd81287a72f",
   "metadata": {},
   "source": [
    "## 设计SimpleCoder角色"
   ]
  },
  {
   "cell_type": "code",
   "execution_count": 7,
   "id": "a011e39e-d916-4819-bfba-edd13830fb56",
   "metadata": {},
   "outputs": [],
   "source": [
    "import re\n",
    "import asyncio\n",
    "from metagpt.actions import Action\n",
    "from metagpt.roles import Role\n",
    "from metagpt.schema import Message\n",
    "from metagpt.logs import logger\n",
    "\n",
    "class SimpleWriteCode(Action):\n",
    "\n",
    "    PROMPT_TEMPLATE = \"\"\"\n",
    "    Write a python function that can {instruction} and provide two runnnable test cases.\n",
    "    Return ```python your_code_here ``` with NO other texts,\n",
    "    your code:\n",
    "    \"\"\"\n",
    "\n",
    "    def __init__(self, name=\"SimpleWriteCode\", context=None, llm=None):\n",
    "        super().__init__(name, context, llm)\n",
    "\n",
    "    async def run(self, instruction: str):\n",
    "\n",
    "        prompt = self.PROMPT_TEMPLATE.format(instruction=instruction)\n",
    "\n",
    "        rsp = await self._aask(prompt)\n",
    "\n",
    "        code_text = SimpleWriteCode.parse_code(rsp)\n",
    "\n",
    "        return code_text\n",
    "\n",
    "    @staticmethod\n",
    "    def parse_code(rsp):\n",
    "        pattern = r'```python(.*)```'\n",
    "        match = re.search(pattern, rsp, re.DOTALL)\n",
    "        code_text = match.group(1) if match else rsp\n",
    "        return code_text\n",
    "\n",
    "class SimpleCoder(Role):\n",
    "    def __init__(\n",
    "        self,\n",
    "        name: str = \"Alice\",\n",
    "        profile: str = \"SimpleCoder\",\n",
    "        **kwargs,\n",
    "    ):\n",
    "        super().__init__(name, profile, **kwargs)\n",
    "        self._init_actions([SimpleWriteCode])\n",
    "\n",
    "    async def _act(self) -> Message:\n",
    "        logger.info(f\"{self._setting}: ready to {self._rc.todo}\")\n",
    "        todo = self._rc.todo  # todo will be SimpleWriteCode()\n",
    "\n",
    "        msg = self.get_memories(k=1)[0]  # find the most recent messages\n",
    "\n",
    "        code_text = await todo.run(msg.content)\n",
    "        msg = Message(content=code_text, role=self.profile,\n",
    "                      cause_by=type(todo))\n",
    "\n",
    "        return msg\n",
    "\n",
    "\n"
   ]
  },
  {
   "cell_type": "code",
   "execution_count": 9,
   "id": "5ee0b5be-34f6-497c-bb19-5d0cedf89a33",
   "metadata": {},
   "outputs": [
    {
     "name": "stderr",
     "output_type": "stream",
     "text": [
      "2024-01-12 15:31:16.401 | INFO     | __main__:main:4 - write a function that calculates the sum of a list\n",
      "2024-01-12 15:31:16.407 | INFO     | __main__:_act:47 - Alice(SimpleCoder): ready to SimpleWriteCode\n"
     ]
    },
    {
     "name": "stdout",
     "output_type": "stream",
     "text": [
      "```python\n",
      "def sum_list(lst):\n",
      "    return sum(lst)\n",
      "\n",
      "# Test case 1\n",
      "print(sum_list([1, 2, 3, 4, 5]))  # Expected output: 15\n",
      "\n",
      "# Test case 2\n",
      "print(sum_list([-1, 0, 1]))  # Expected output: 0\n",
      "```"
     ]
    },
    {
     "name": "stderr",
     "output_type": "stream",
     "text": [
      "2024-01-12 15:31:20.843 | INFO     | __main__:main:6 - SimpleCoder: \n",
      "def sum_list(lst):\n",
      "    return sum(lst)\n",
      "\n",
      "# Test case 1\n",
      "print(sum_list([1, 2, 3, 4, 5]))  # Expected output: 15\n",
      "\n",
      "# Test case 2\n",
      "print(sum_list([-1, 0, 1]))  # Expected output: 0\n",
      "\n"
     ]
    },
    {
     "name": "stdout",
     "output_type": "stream",
     "text": [
      "\n"
     ]
    }
   ],
   "source": [
    "async def main():\n",
    "    msg = \"write a function that calculates the sum of a list\"\n",
    "    role = SimpleCoder()\n",
    "    logger.info(msg)\n",
    "    result = await role.run(msg)\n",
    "    logger.info(result)\n",
    "\n",
    "# asyncio.run(main())\n",
    "await main()"
   ]
  },
  {
   "cell_type": "markdown",
   "id": "94807e8f-b5db-40f7-9fb2-f6b12c784474",
   "metadata": {},
   "source": [
    "## 多动作Agent  "
   ]
  },
  {
   "cell_type": "code",
   "execution_count": 13,
   "id": "b7f6557f-2ca7-4771-b3ab-b45e26937a4f",
   "metadata": {},
   "outputs": [],
   "source": [
    "import os\n",
    "import re\n",
    "import subprocess\n",
    "import asyncio\n",
    "\n",
    "import fire\n",
    "import sys\n",
    "from metagpt.llm import LLM\n",
    "from metagpt.actions import Action\n",
    "from metagpt.roles import Role\n",
    "from metagpt.schema import Message\n",
    "from metagpt.logs import logger"
   ]
  },
  {
   "cell_type": "markdown",
   "id": "b90f2250-c660-4e8a-8c05-6b0cba99b9c7",
   "metadata": {},
   "source": [
    "### 编写 SimpleRunCode 动作"
   ]
  },
  {
   "cell_type": "code",
   "execution_count": 10,
   "id": "4d61598e-a6fa-4c0e-8449-4b64ea6588c0",
   "metadata": {},
   "outputs": [],
   "source": [
    "class SimpleRunCode(Action):\n",
    "    def __init__(self, name=\"SimpleRunCode\", context=None, llm=None):\n",
    "        super().__init__(name, context, llm)\n",
    "\n",
    "    async def run(self, code_text: str):\n",
    "        # 在Windows环境下，result可能无法正确返回生成结果，在windows中在终端中输入python3可能会导致打开微软商店\n",
    "        result = subprocess.run([\"python3\", \"-c\", code_text], capture_output=True, text=True)\n",
    "        # 采用下面的可选代码来替换上面的代码\n",
    "        # result = subprocess.run([\"python\", \"-c\", code_text], capture_output=True, text=True)\n",
    "        # import sys\n",
    "        # result = subprocess.run([sys.executable, \"-c\", code_text], capture_output=True, text=True)\n",
    "        code_result = result.stdout\n",
    "        logger.info(f\"{code_result=}\")\n",
    "        return code_result"
   ]
  },
  {
   "cell_type": "markdown",
   "id": "71edd62b-aa73-46a7-ad99-fb04541c1335",
   "metadata": {},
   "source": [
    "### 定义 RunnableCoder 角色"
   ]
  },
  {
   "cell_type": "code",
   "execution_count": 11,
   "id": "cd097c0e-0a1a-4e53-a609-8cfcb42192f5",
   "metadata": {},
   "outputs": [],
   "source": [
    "class RunnableCoder(Role):\n",
    "    def __init__(\n",
    "        self,\n",
    "        name: str = \"Alice\",\n",
    "        profile: str = \"RunnableCoder\",\n",
    "        **kwargs,\n",
    "    ):\n",
    "        super().__init__(name, profile, **kwargs)\n",
    "        self._init_actions([SimpleWriteCode, SimpleRunCode])\n",
    "        self._set_react_mode(react_mode=\"by_order\")\n",
    "\n",
    "    async def _act(self) -> Message:\n",
    "        logger.info(f\"{self._setting}: 准备 {self._rc.todo}\")\n",
    "        # 通过在底层按顺序选择动作\n",
    "        # todo 首先是 SimpleWriteCode() 然后是 SimpleRunCode()\n",
    "        todo = self._rc.todo\n",
    "\n",
    "        msg = self.get_memories(k=1)[0] # find the most recent messages\n",
    "        result = await todo.run(msg.content)\n",
    "\n",
    "        msg = Message(content=result, role=self.profile, cause_by=type(todo))\n",
    "        self._rc.memory.add(msg)\n",
    "        return msg"
   ]
  },
  {
   "cell_type": "markdown",
   "id": "9d49f3c7-c11a-4146-9d02-07966a882ee2",
   "metadata": {},
   "source": [
    "### 运行 RunnableCoder 角色"
   ]
  },
  {
   "cell_type": "code",
   "execution_count": 14,
   "id": "ff0f291c-aaa4-468e-9d11-ca5ec4875831",
   "metadata": {},
   "outputs": [
    {
     "name": "stderr",
     "output_type": "stream",
     "text": [
      "2024-01-12 15:44:57.758 | INFO     | __main__:main:6 - write a function that calculates the sum of a list\n",
      "2024-01-12 15:44:57.769 | INFO     | __main__:_act:13 - Alice(RunnableCoder): 准备 SimpleWriteCode\n"
     ]
    },
    {
     "name": "stdout",
     "output_type": "stream",
     "text": [
      "```python\n",
      "def sum_list(lst):\n",
      "    return sum(lst)\n",
      "\n",
      "# Test cases\n",
      "print(sum_list([1, 2, 3, 4, 5]))  # Expected output: 15\n",
      "print(sum_list([-1, 0, 1]))  # Expected"
     ]
    },
    {
     "name": "stderr",
     "output_type": "stream",
     "text": [
      "2024-01-12 15:45:02.763 | INFO     | __main__:_act:13 - Alice(RunnableCoder): 准备 SimpleRunCode\n",
      "2024-01-12 15:45:02.846 | INFO     | __main__:run:13 - code_result='15\\n0\\n'\n",
      "2024-01-12 15:45:02.848 | INFO     | __main__:main:8 - RunnableCoder: 15\n",
      "0\n",
      "\n"
     ]
    },
    {
     "name": "stdout",
     "output_type": "stream",
     "text": [
      " output: 0\n",
      "```\n"
     ]
    }
   ],
   "source": [
    "import asyncio\n",
    "\n",
    "async def main():\n",
    "    msg = \"write a function that calculates the sum of a list\"\n",
    "    role = RunnableCoder()\n",
    "    logger.info(msg)\n",
    "    result = await role.run(msg)\n",
    "    logger.info(result)\n",
    "\n",
    "# asyncio.run(main())\n",
    "await main()"
   ]
  },
  {
   "cell_type": "code",
   "execution_count": null,
   "id": "9f23168e-0bd3-4fec-a512-68221189ead5",
   "metadata": {},
   "outputs": [],
   "source": []
  }
 ],
 "metadata": {
  "kernelspec": {
   "display_name": "Python 3 (ipykernel)",
   "language": "python",
   "name": "python3"
  },
  "language_info": {
   "codemirror_mode": {
    "name": "ipython",
    "version": 3
   },
   "file_extension": ".py",
   "mimetype": "text/x-python",
   "name": "python",
   "nbconvert_exporter": "python",
   "pygments_lexer": "ipython3",
   "version": "3.10.13"
  }
 },
 "nbformat": 4,
 "nbformat_minor": 5
}
